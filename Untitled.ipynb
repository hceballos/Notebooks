{
 "cells": [
  {
   "cell_type": "markdown",
   "metadata": {},
   "source": [
    "# Jinja2 \n",
    "Es un motor de plantillas para Python.\n",
    "Queremos exportar informacion a una pagina Html"
   ]
  },
  {
   "cell_type": "markdown",
   "metadata": {},
   "source": [
    "creamos un fichero llamado:    \n",
    "### script_actual.py"
   ]
  },
  {
   "cell_type": "code",
   "execution_count": null,
   "metadata": {},
   "outputs": [],
   "source": [
    "#!/usr/bin/python\n",
    "# -*- coding: utf-8 -*-\n",
    "from jinja2 import Environment, PackageLoader\n",
    "reload(sys)\n",
    "sys.setdefaultencoding('utf-8')"
   ]
  },
  {
   "cell_type": "code",
   "execution_count": null,
   "metadata": {},
   "outputs": [],
   "source": [
    "registros=['uno', 'dos', 'tres']"
   ]
  },
  {
   "cell_type": "code",
   "execution_count": null,
   "metadata": {},
   "outputs": [],
   "source": [
    "for elemento in registros:\n",
    "    \n",
    "\tenv1 = Environment(\n",
    "\t# loader=PackageLoader('nombre del archivo .py', 'nombre de la carpeta donde estan la plantilla')\n",
    "\tloader=PackageLoader('script_actual', 'templates')\n",
    "\t)\n",
    "\t# templateX = env1.get_template('nombre de la plantilla que se usara')\n",
    "\ttemplateX = env1.get_template('plantilla.html')\n",
    "\tHtml_file = open(\"output/\"+str(elemento)+\".html\", \"wb\")\n",
    "\tHtml_file.write(\n",
    "\ttemplateX.render(\n",
    "\tseccion_titulo = elemento,\n",
    "\t )\n",
    "\t)"
   ]
  },
  {
   "cell_type": "markdown",
   "metadata": {},
   "source": [
    "creamos una carpeta llamada 'templates'  y dentro de esa carpeta un fichero llamado 'plantilla.html' con el siguiente contenido:"
   ]
  },
  {
   "cell_type": "markdown",
   "metadata": {},
   "source": [
    "### plantilla.html"
   ]
  },
  {
   "cell_type": "code",
   "execution_count": null,
   "metadata": {},
   "outputs": [],
   "source": [
    "<!DOCTYPE html>\n",
    "<html>\n",
    "<head>\n",
    "    <title>\n",
    "    </title>\n",
    "</head>\n",
    "<body>\n",
    "    {{ seccion_titulo }}\n",
    "</body>\n",
    "</html>"
   ]
  },
  {
   "cell_type": "markdown",
   "metadata": {},
   "source": [
    "finalmente creamos una carpeta llamada 'output'"
   ]
  }
 ],
 "metadata": {
  "kernelspec": {
   "display_name": "Python 2",
   "language": "python",
   "name": "python2"
  },
  "language_info": {
   "codemirror_mode": {
    "name": "ipython",
    "version": 2
   },
   "file_extension": ".py",
   "mimetype": "text/x-python",
   "name": "python",
   "nbconvert_exporter": "python",
   "pygments_lexer": "ipython2",
   "version": "2.7.13"
  }
 },
 "nbformat": 4,
 "nbformat_minor": 2
}
