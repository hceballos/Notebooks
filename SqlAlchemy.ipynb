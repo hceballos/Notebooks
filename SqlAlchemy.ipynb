{
 "cells": [
  {
   "cell_type": "markdown",
   "metadata": {},
   "source": [
    "# First example"
   ]
  },
  {
   "cell_type": "code",
   "execution_count": 37,
   "metadata": {},
   "outputs": [],
   "source": [
    "import requests"
   ]
  },
  {
   "cell_type": "code",
   "execution_count": 38,
   "metadata": {},
   "outputs": [],
   "source": [
    "url = 'http://www.webscrapingfordatascience.com/basichttp/'\n",
    "r = requests.get(url)"
   ]
  },
  {
   "cell_type": "code",
   "execution_count": 39,
   "metadata": {},
   "outputs": [
    {
     "name": "stdout",
     "output_type": "stream",
     "text": [
      "200\n"
     ]
    }
   ],
   "source": [
    "# Which HTTP status code did we get back from the server?\n",
    "print (r.status_code)"
   ]
  },
  {
   "cell_type": "code",
   "execution_count": 40,
   "metadata": {},
   "outputs": [
    {
     "name": "stdout",
     "output_type": "stream",
     "text": [
      "OK\n"
     ]
    }
   ],
   "source": [
    "# What is the textual status code?\n",
    "print (r.reason)"
   ]
  },
  {
   "cell_type": "code",
   "execution_count": 41,
   "metadata": {},
   "outputs": [
    {
     "name": "stdout",
     "output_type": "stream",
     "text": [
      "{'Content-Length': '20', 'Keep-Alive': 'timeout=5, max=100', 'Server': 'Apache/2.4.18 (Ubuntu)', 'Connection': 'Keep-Alive', 'Date': 'Mon, 25 Jun 2018 20:57:24 GMT', 'Content-Type': 'text/html; charset=UTF-8'}\n"
     ]
    }
   ],
   "source": [
    "# What were the HTTP response headers?\n",
    "print (r.headers)"
   ]
  },
  {
   "cell_type": "code",
   "execution_count": 42,
   "metadata": {},
   "outputs": [
    {
     "name": "stdout",
     "output_type": "stream",
     "text": [
      "Hello from the web!\n",
      "\n"
     ]
    }
   ],
   "source": [
    "# The HTTP response content:\n",
    "print (r.text)"
   ]
  },
  {
   "cell_type": "markdown",
   "metadata": {},
   "source": [
    "# Segundo ejemplo\n",
    "## Acceder a una web protegida"
   ]
  },
  {
   "cell_type": "code",
   "execution_count": 43,
   "metadata": {},
   "outputs": [],
   "source": [
    "import requests\n",
    "from bs4 import BeautifulSoup"
   ]
  },
  {
   "cell_type": "code",
   "execution_count": 44,
   "metadata": {},
   "outputs": [],
   "source": [
    "url = 'http://www.webscrapingfordatascience.com/postform3/'\n",
    "# First perform a GET request\n",
    "r = requests.get(url)\n",
    "html_soup = BeautifulSoup(r.text, 'html.parser')"
   ]
  },
  {
   "cell_type": "code",
   "execution_count": 45,
   "metadata": {},
   "outputs": [],
   "source": [
    "# Get out the value for protection\n",
    "p_val = html_soup.find('input', attrs={'name': 'protection'}).get('value')"
   ]
  },
  {
   "cell_type": "code",
   "execution_count": 46,
   "metadata": {},
   "outputs": [],
   "source": [
    "# Then use it in a POST request\n",
    "formdata = {\n",
    "    'name': 'Seppe',\n",
    "    'gender': 'M',\n",
    "    'pizza': 'like',\n",
    "    'haircolor': 'brown',\n",
    "    'comments': '',\n",
    "    'protection': p_val\n",
    "}"
   ]
  },
  {
   "cell_type": "code",
   "execution_count": 47,
   "metadata": {},
   "outputs": [
    {
     "name": "stdout",
     "output_type": "stream",
     "text": [
      "<html>\n",
      "\t<body>\n",
      "\n",
      "\n",
      "\n",
      "<h2>Thanks for submitting your information</h2>\n",
      "\n",
      "<p>Here's a dump of the form data that was submitted:</p>\n",
      "\n",
      "<pre>array(6) {\n",
      "  [\"name\"]=>\n",
      "  string(5) \"Seppe\"\n",
      "  [\"gender\"]=>\n",
      "  string(1) \"M\"\n",
      "  [\"comments\"]=>\n",
      "  string(0) \"\"\n",
      "  [\"protection\"]=>\n",
      "  string(32) \"a50cc5087ee628a3595e65e35d3f6fbe\"\n",
      "  [\"haircolor\"]=>\n",
      "  string(5) \"brown\"\n",
      "  [\"pizza\"]=>\n",
      "  string(4) \"like\"\n",
      "}\n",
      "</pre>\n",
      "\n",
      "\n",
      "\n",
      "\t</body>\n",
      "</html>\n",
      "\n"
     ]
    }
   ],
   "source": [
    "r = requests.post(url, data=formdata)\n",
    "print(r.text)"
   ]
  }
 ],
 "metadata": {
  "kernelspec": {
   "display_name": "Python 2",
   "language": "python",
   "name": "python2"
  },
  "language_info": {
   "codemirror_mode": {
    "name": "ipython",
    "version": 2
   },
   "file_extension": ".py",
   "mimetype": "text/x-python",
   "name": "python",
   "nbconvert_exporter": "python",
   "pygments_lexer": "ipython2",
   "version": "2.7.13"
  }
 },
 "nbformat": 4,
 "nbformat_minor": 2
}
