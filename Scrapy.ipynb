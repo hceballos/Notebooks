{
 "cells": [
  {
   "cell_type": "markdown",
   "metadata": {},
   "source": [
    "# Ejemplo 1, Nuevo proyecto"
   ]
  },
  {
   "cell_type": "markdown",
   "metadata": {},
   "source": [
    "1. crear nuevo proyecto"
   ]
  },
  {
   "cell_type": "code",
   "execution_count": null,
   "metadata": {},
   "outputs": [],
   "source": [
    "$scrapy startproject tutorial"
   ]
  },
  {
   "cell_type": "markdown",
   "metadata": {},
   "source": [
    "2. en la carpeta tutorial/spiders crear un fichero con nombre quotes_spider.py con el siguiente contenido:"
   ]
  },
  {
   "cell_type": "code",
   "execution_count": null,
   "metadata": {},
   "outputs": [],
   "source": [
    "import scrapy\n",
    "\n",
    "\n",
    "class QuotesSpider(scrapy.Spider):\n",
    "    name = \"quotes\"\n",
    "\n",
    "    def start_requests(self):\n",
    "        urls = [\n",
    "            'http://quotes.toscrape.com/page/1/',\n",
    "            'http://quotes.toscrape.com/page/2/',\n",
    "        ]\n",
    "        for url in urls:\n",
    "            yield scrapy.Request(url=url, callback=self.parse)\n",
    "\n",
    "    def parse(self, response):\n",
    "        page = response.url.split(\"/\")[-2]\n",
    "        filename = 'quotes-%s.html' % page\n",
    "        with open(filename, 'wb') as f:\n",
    "            f.write(response.body)\n",
    "        self.log('Saved file %s' % filename)"
   ]
  },
  {
   "cell_type": "markdown",
   "metadata": {},
   "source": [
    "3. Corriendo el spider"
   ]
  },
  {
   "cell_type": "code",
   "execution_count": null,
   "metadata": {},
   "outputs": [],
   "source": [
    "$scrapy crawl quotes"
   ]
  },
  {
   "cell_type": "markdown",
   "metadata": {},
   "source": [
    "se crearán 2 ficheros nuevos con la info de las urls a la altura de donde estemos posicionados en la carpeta 'tutorial'.\n",
    "1. quotes-1.html\n",
    "2. quotes-2.html"
   ]
  },
  {
   "cell_type": "markdown",
   "metadata": {},
   "source": [
    "# Ejemplo 2, Almacenar datos ( json, csv, jl )"
   ]
  },
  {
   "cell_type": "code",
   "execution_count": null,
   "metadata": {},
   "outputs": [],
   "source": [
    "# crawl es el nombre de spider\n",
    "# quotes.json es el nombre del archivo que se creará y su extención\n",
    "$scrapy crawl quotes -o quotes.json"
   ]
  },
  {
   "cell_type": "code",
   "execution_count": null,
   "metadata": {},
   "outputs": [],
   "source": [
    "import scrapy\n",
    "\n",
    "\n",
    "class QuotesSpider(scrapy.Spider):\n",
    "    name = \"quotes\"\n",
    "    start_urls = [\n",
    "        'http://quotes.toscrape.com/page/1/',\n",
    "        'http://quotes.toscrape.com/page/2/',\n",
    "    ]\n",
    "\n",
    "    def parse(self, response):\n",
    "        for quote in response.css('div.quote'):\n",
    "            yield {\n",
    "                'text': quote.css('span.text::text').extract_first(),\n",
    "                'author': quote.css('small.author::text').extract_first(),\n",
    "                'tags': quote.css('div.tags a.tag::text').extract(),\n",
    "            }"
   ]
  },
  {
   "cell_type": "markdown",
   "metadata": {},
   "source": [
    "# Ejemplo 3, Siguiendo enlaces."
   ]
  },
  {
   "cell_type": "markdown",
   "metadata": {},
   "source": [
    "Lo primero es extraer el enlace a la página que queremos seguir. Al examinar nuestra página, podemos ver que hay un enlace a la página siguiente ( línea 18 a 21 )"
   ]
  },
  {
   "cell_type": "code",
   "execution_count": null,
   "metadata": {},
   "outputs": [],
   "source": [
    "import scrapy\n",
    "\n",
    "\n",
    "class QuotesSpider(scrapy.Spider):\n",
    "    name = \"quotes\"\n",
    "    start_urls = [\n",
    "        'http://quotes.toscrape.com/page/1/',\n",
    "    ]\n",
    "\n",
    "    def parse(self, response):\n",
    "        for quote in response.css('div.quote'):\n",
    "            yield {\n",
    "                'text': quote.css('span.text::text').extract_first(),\n",
    "                'author': quote.css('small.author::text').extract_first(),\n",
    "                'tags': quote.css('div.tags a.tag::text').extract(),\n",
    "            }\n",
    "\n",
    "        next_page = response.css('li.next a::attr(href)').extract_first()\n",
    "        if next_page is not None:\n",
    "            next_page = response.urljoin(next_page)\n",
    "            yield scrapy.Request(next_page, callback=self.parse)"
   ]
  },
  {
   "cell_type": "code",
   "execution_count": null,
   "metadata": {},
   "outputs": [],
   "source": [
    "$scrapy crawl quotes -o Siguiendo_enlaces.csv"
   ]
  },
  {
   "cell_type": "markdown",
   "metadata": {},
   "source": [
    "# Ejemplo 4, Extraer información del autor."
   ]
  },
  {
   "cell_type": "markdown",
   "metadata": {},
   "source": [
    "Esta araña comenzará desde la página principal, seguirá todos los enlaces a las páginas de los autores, en la pagina principal de cada autor extraerá: name, birthdate y bio."
   ]
  },
  {
   "cell_type": "code",
   "execution_count": null,
   "metadata": {},
   "outputs": [],
   "source": [
    "import scrapy\n",
    "\n",
    "\n",
    "class AuthorSpider(scrapy.Spider):\n",
    "    name = 'author'\n",
    "\n",
    "    start_urls = ['http://quotes.toscrape.com/']\n",
    "\n",
    "    def parse(self, response):\n",
    "        # 1) seguir enlaces a páginas de autor\n",
    "        for href in response.css('.author + a::attr(href)'):\n",
    "            yield response.follow(href, self.parse_author)\n",
    "\n",
    "        # 2) seguir los enlaces de paginación\n",
    "        for href in response.css('li.next a::attr(href)'):\n",
    "            yield response.follow(href, self.parse) \n",
    "\n",
    "    def parse_author(self, response):\n",
    "        # Función auxiliar para extraer y limpiar los datos de una consulta CSS \n",
    "        # y genera el dict con los datos del autor.\n",
    "        def extract_with_css(query):\n",
    "            return response.css(query).extract_first().strip()\n",
    "\n",
    "        yield {\n",
    "            'name': extract_with_css('h3.author-title::text'),\n",
    "            'birthdate': extract_with_css('.author-born-date::text'),\n",
    "            'bio': extract_with_css('.author-description::text'),\n",
    "        }\n",
    "        "
   ]
  },
  {
   "cell_type": "code",
   "execution_count": null,
   "metadata": {},
   "outputs": [],
   "source": [
    "$scrapy crawl author -o Siguiendo_enlaces.csv"
   ]
  },
  {
   "cell_type": "markdown",
   "metadata": {},
   "source": [
    "# Ejemplo 5, Argumentos de línea de comando"
   ]
  },
  {
   "cell_type": "markdown",
   "metadata": {},
   "source": [
    "Se puede proporcionar argumentos de línea de comando en la araña usando la opción -a cuando las ejecuta:  \n",
    "en ete caso queremos acceder a la siguiente url:  \n",
    "http://quotes.toscrape.com/tag/humor/"
   ]
  },
  {
   "cell_type": "code",
   "execution_count": null,
   "metadata": {},
   "outputs": [],
   "source": [
    "$scrapy crawl quotes -o argumentos_en_linea_comando.json -a tag=humor"
   ]
  },
  {
   "cell_type": "code",
   "execution_count": null,
   "metadata": {},
   "outputs": [],
   "source": [
    "import scrapy\n",
    "\n",
    "\n",
    "class QuotesSpider(scrapy.Spider):\n",
    "    name = \"quotes\"\n",
    "\n",
    "    def start_requests(self):\n",
    "        url = 'http://quotes.toscrape.com/'\n",
    "        tag = getattr(self, 'tag', None)\n",
    "        if tag is not None:\n",
    "            url = url + 'tag/' + tag\n",
    "        yield scrapy.Request(url, self.parse)\n",
    "\n",
    "    def parse(self, response):\n",
    "        for quote in response.css('div.quote'):\n",
    "            yield {\n",
    "                'text': quote.css('span.text::text').extract_first(),\n",
    "                'author': quote.css('small.author::text').extract_first(),\n",
    "            }\n",
    "\n",
    "        next_page = response.css('li.next a::attr(href)').extract_first()\n",
    "        if next_page is not None:\n",
    "            yield response.follow(next_page, self.parse)"
   ]
  },
  {
   "cell_type": "markdown",
   "metadata": {},
   "source": [
    "# Ejemplo 6, usando selectores CSS.\n",
    "código disponible en: https://github.com/scrapy/quotesbot"
   ]
  },
  {
   "cell_type": "code",
   "execution_count": null,
   "metadata": {},
   "outputs": [],
   "source": [
    "$scrapy crawl toscrape-css -o argumentos_en_linea_comando.json"
   ]
  },
  {
   "cell_type": "code",
   "execution_count": null,
   "metadata": {},
   "outputs": [],
   "source": [
    "# -*- coding: utf-8 -*-\n",
    "import scrapy\n",
    "\n",
    "\n",
    "class ToScrapeCSSSpider(scrapy.Spider):\n",
    "    name = \"toscrape-css\"\n",
    "    start_urls = [\n",
    "        'http://quotes.toscrape.com/',\n",
    "    ]\n",
    "\n",
    "    def parse(self, response):\n",
    "        for quote in response.css(\"div.quote\"):\n",
    "            yield {\n",
    "                'text': quote.css(\"span.text::text\").extract_first(),\n",
    "                'author': quote.css(\"small.author::text\").extract_first(),\n",
    "                'tags': quote.css(\"div.tags > a.tag::text\").extract()\n",
    "            }\n",
    "\n",
    "        next_page_url = response.css(\"li.next > a::attr(href)\").extract_first()\n",
    "        if next_page_url is not None:\n",
    "            yield scrapy.Request(response.urljoin(next_page_url))"
   ]
  },
  {
   "cell_type": "markdown",
   "metadata": {},
   "source": [
    "# Ejemplo 7, usando selectores xpath.\n",
    "código disponible en: https://github.com/scrapy/quotesbot"
   ]
  },
  {
   "cell_type": "code",
   "execution_count": null,
   "metadata": {},
   "outputs": [],
   "source": [
    "# -*- coding: utf-8 -*-\n",
    "import scrapy\n",
    "\n",
    "\n",
    "class ToScrapeSpiderXPath(scrapy.Spider):\n",
    "    name = 'toscrape-xpath'\n",
    "    start_urls = [\n",
    "        'http://quotes.toscrape.com/',\n",
    "    ]\n",
    "\n",
    "    def parse(self, response):\n",
    "        for quote in response.xpath('//div[@class=\"quote\"]'):\n",
    "            yield {\n",
    "                'text': quote.xpath('./span[@class=\"text\"]/text()').extract_first(),\n",
    "                'author': quote.xpath('.//small[@class=\"author\"]/text()').extract_first(),\n",
    "                'tags': quote.xpath('.//div[@class=\"tags\"]/a[@class=\"tag\"]/text()').extract()\n",
    "            }\n",
    "\n",
    "        next_page_url = response.xpath('//li[@class=\"next\"]/a/@href').extract_first()\n",
    "        if next_page_url is not None:\n",
    "            yield scrapy.Request(response.urljoin(next_page_url))\n",
    "\n"
   ]
  },
  {
   "cell_type": "markdown",
   "metadata": {},
   "source": [
    "# Ejemplo 8, Raspando trabajando.cl\n",
    "### https://www.trabajando.cl"
   ]
  },
  {
   "cell_type": "code",
   "execution_count": null,
   "metadata": {},
   "outputs": [],
   "source": [
    "# -*- coding: utf-8 -*-\n",
    "# scrapy crawl trabajando -o trabajando.csv\n",
    "import scrapy\n",
    "\n",
    "\n",
    "class TrabajoSpider(scrapy.Spider):\n",
    "    name = 'trabajando'\n",
    "\n",
    "    start_urls = ['https://www.trabajando.cl/jobs/home/']\n",
    "\n",
    "    def parse(self, response):\n",
    "        # 1) seguir enlaces a páginas de postulacion\n",
    "        for href in response.xpath('//*[@id=\"ofertas_slider\"]/ul/li/div/div/div/div/h2/a/@href'):\n",
    "            yield response.follow(href, self.parse_author)\n",
    "\n",
    "        # 2) seguir los enlaces de pagina siguiente\n",
    "        for href in response.xpath('//*[@id=\"nextPageEmpresa\"]/@href'):\n",
    "            yield response.follow(href, self.parse)\n",
    "\n",
    "    def parse_author(self, response):\n",
    "        # Función auxiliar para extraer y limpiar los datos de una consulta CSS\n",
    "        # y genera el dict con los datos del autor.\n",
    "        def extract_with_xpath(query):\n",
    "            return response.xpath(query).extract_first().strip()\n",
    "\n",
    "        yield {\n",
    "            #'Link': extract_with_xpath(href),\n",
    "\n",
    "            'Descripcion': extract_with_xpath('//*[@id=\"detalle_oferta\"]/div/div[4]/p/text()'),\n",
    "            'Funciones': extract_with_xpath('//*[@id=\"detalle_oferta\"]/div/div[4]/p/text()'),\n",
    "            'Area de desempeno': extract_with_xpath('//*[@id=\"detalle_oferta\"]/div/div[7]/div[1]/div[2]/text()'),\n",
    "            'Region': extract_with_xpath('//*[@id=\"detalle_oferta\"]/div/div[7]/div[2]/div[2]/text()'),\n",
    "            'Lugar': extract_with_xpath('//*[@id=\"detalle_oferta\"]/div/div[7]/div[4]/div[2]/text()'),\n",
    "            'Publicado': extract_with_xpath('//*[@id=\"detalle_oferta\"]/div/div[3]/div/div[3]/h4/text()'),\n",
    "            'Empresa': extract_with_xpath('//*[@id=\"detalle_oferta\"]/div/div[2]/div[4]/h4/a/text()'),\n",
    "            'Titulo': extract_with_xpath('//*[@id=\"detalle_oferta\"]/div/div[2]/div[2]/h1/text()'),\n",
    "        }\n"
   ]
  }
 ],
 "metadata": {
  "kernelspec": {
   "display_name": "Python 2",
   "language": "python",
   "name": "python2"
  },
  "language_info": {
   "codemirror_mode": {
    "name": "ipython",
    "version": 2
   },
   "file_extension": ".py",
   "mimetype": "text/x-python",
   "name": "python",
   "nbconvert_exporter": "python",
   "pygments_lexer": "ipython2",
   "version": "2.7.13"
  }
 },
 "nbformat": 4,
 "nbformat_minor": 2
}
